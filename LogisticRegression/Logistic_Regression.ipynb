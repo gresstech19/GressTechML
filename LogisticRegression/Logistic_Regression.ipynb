{
 "cells": [
  {
   "cell_type": "code",
   "execution_count": 3,
   "metadata": {},
   "outputs": [],
   "source": [
    "import pandas as pd\n",
    "import numpy as np\n",
    "import matplotlib.pyplot as plt\n",
    "import  seaborn as sns\n",
    "%matplotlib inline"
   ]
  },
  {
   "cell_type": "code",
   "execution_count": 5,
   "metadata": {
    "scrolled": false
   },
   "outputs": [
    {
     "name": "stdout",
     "output_type": "stream",
     "text": [
      "   PassengerId  Survived  Pclass  \\\n",
      "0            1         0       3   \n",
      "1            2         1       1   \n",
      "2            3         1       3   \n",
      "3            4         1       1   \n",
      "4            5         0       3   \n",
      "\n",
      "                                                Name     Sex   Age  SibSp  \\\n",
      "0                            Braund, Mr. Owen Harris    male  22.0      1   \n",
      "1  Cumings, Mrs. John Bradley (Florence Briggs Th...  female  38.0      1   \n",
      "2                             Heikkinen, Miss. Laina  female  26.0      0   \n",
      "3       Futrelle, Mrs. Jacques Heath (Lily May Peel)  female  35.0      1   \n",
      "4                           Allen, Mr. William Henry    male  35.0      0   \n",
      "\n",
      "   Parch            Ticket     Fare Cabin Embarked  \n",
      "0      0         A/5 21171   7.2500   NaN        S  \n",
      "1      0          PC 17599  71.2833   C85        C  \n",
      "2      0  STON/O2. 3101282   7.9250   NaN        S  \n",
      "3      0            113803  53.1000  C123        S  \n",
      "4      0            373450   8.0500   NaN        S  \n"
     ]
    }
   ],
   "source": [
    "titanic=pd.read_csv(r\"Dataset\\tatanic_Logistic.csv\")\n",
    "print(titanic.head())\n"
   ]
  },
  {
   "cell_type": "code",
   "execution_count": 85,
   "metadata": {},
   "outputs": [
    {
     "name": "stdout",
     "output_type": "stream",
     "text": [
      "<class 'pandas.core.frame.DataFrame'>\n",
      "RangeIndex: 891 entries, 0 to 890\n",
      "Data columns (total 12 columns):\n",
      "PassengerId    891 non-null int64\n",
      "Survived       891 non-null int64\n",
      "Pclass         891 non-null int64\n",
      "Name           891 non-null object\n",
      "Sex            891 non-null object\n",
      "Age            714 non-null float64\n",
      "SibSp          891 non-null int64\n",
      "Parch          891 non-null int64\n",
      "Ticket         891 non-null object\n",
      "Fare           891 non-null float64\n",
      "Cabin          204 non-null object\n",
      "Embarked       889 non-null object\n",
      "dtypes: float64(2), int64(5), object(5)\n",
      "memory usage: 83.6+ KB\n",
      "None\n",
      "     PassengerId  Survived  Pclass   Name    Sex    Age  SibSp  Parch  Ticket  \\\n",
      "0          False     False   False  False  False  False  False  False   False   \n",
      "1          False     False   False  False  False  False  False  False   False   \n",
      "2          False     False   False  False  False  False  False  False   False   \n",
      "3          False     False   False  False  False  False  False  False   False   \n",
      "4          False     False   False  False  False  False  False  False   False   \n",
      "5          False     False   False  False  False   True  False  False   False   \n",
      "6          False     False   False  False  False  False  False  False   False   \n",
      "7          False     False   False  False  False  False  False  False   False   \n",
      "8          False     False   False  False  False  False  False  False   False   \n",
      "9          False     False   False  False  False  False  False  False   False   \n",
      "10         False     False   False  False  False  False  False  False   False   \n",
      "11         False     False   False  False  False  False  False  False   False   \n",
      "12         False     False   False  False  False  False  False  False   False   \n",
      "13         False     False   False  False  False  False  False  False   False   \n",
      "14         False     False   False  False  False  False  False  False   False   \n",
      "15         False     False   False  False  False  False  False  False   False   \n",
      "16         False     False   False  False  False  False  False  False   False   \n",
      "17         False     False   False  False  False   True  False  False   False   \n",
      "18         False     False   False  False  False  False  False  False   False   \n",
      "19         False     False   False  False  False   True  False  False   False   \n",
      "20         False     False   False  False  False  False  False  False   False   \n",
      "21         False     False   False  False  False  False  False  False   False   \n",
      "22         False     False   False  False  False  False  False  False   False   \n",
      "23         False     False   False  False  False  False  False  False   False   \n",
      "24         False     False   False  False  False  False  False  False   False   \n",
      "25         False     False   False  False  False  False  False  False   False   \n",
      "26         False     False   False  False  False   True  False  False   False   \n",
      "27         False     False   False  False  False  False  False  False   False   \n",
      "28         False     False   False  False  False   True  False  False   False   \n",
      "29         False     False   False  False  False   True  False  False   False   \n",
      "..           ...       ...     ...    ...    ...    ...    ...    ...     ...   \n",
      "861        False     False   False  False  False  False  False  False   False   \n",
      "862        False     False   False  False  False  False  False  False   False   \n",
      "863        False     False   False  False  False   True  False  False   False   \n",
      "864        False     False   False  False  False  False  False  False   False   \n",
      "865        False     False   False  False  False  False  False  False   False   \n",
      "866        False     False   False  False  False  False  False  False   False   \n",
      "867        False     False   False  False  False  False  False  False   False   \n",
      "868        False     False   False  False  False   True  False  False   False   \n",
      "869        False     False   False  False  False  False  False  False   False   \n",
      "870        False     False   False  False  False  False  False  False   False   \n",
      "871        False     False   False  False  False  False  False  False   False   \n",
      "872        False     False   False  False  False  False  False  False   False   \n",
      "873        False     False   False  False  False  False  False  False   False   \n",
      "874        False     False   False  False  False  False  False  False   False   \n",
      "875        False     False   False  False  False  False  False  False   False   \n",
      "876        False     False   False  False  False  False  False  False   False   \n",
      "877        False     False   False  False  False  False  False  False   False   \n",
      "878        False     False   False  False  False   True  False  False   False   \n",
      "879        False     False   False  False  False  False  False  False   False   \n",
      "880        False     False   False  False  False  False  False  False   False   \n",
      "881        False     False   False  False  False  False  False  False   False   \n",
      "882        False     False   False  False  False  False  False  False   False   \n",
      "883        False     False   False  False  False  False  False  False   False   \n",
      "884        False     False   False  False  False  False  False  False   False   \n",
      "885        False     False   False  False  False  False  False  False   False   \n",
      "886        False     False   False  False  False  False  False  False   False   \n",
      "887        False     False   False  False  False  False  False  False   False   \n",
      "888        False     False   False  False  False   True  False  False   False   \n",
      "889        False     False   False  False  False  False  False  False   False   \n",
      "890        False     False   False  False  False  False  False  False   False   \n",
      "\n",
      "      Fare  Cabin  Embarked  \n",
      "0    False   True     False  \n",
      "1    False  False     False  \n",
      "2    False   True     False  \n",
      "3    False  False     False  \n",
      "4    False   True     False  \n",
      "5    False   True     False  \n",
      "6    False  False     False  \n",
      "7    False   True     False  \n",
      "8    False   True     False  \n",
      "9    False   True     False  \n",
      "10   False  False     False  \n",
      "11   False  False     False  \n",
      "12   False   True     False  \n",
      "13   False   True     False  \n",
      "14   False   True     False  \n",
      "15   False   True     False  \n",
      "16   False   True     False  \n",
      "17   False   True     False  \n",
      "18   False   True     False  \n",
      "19   False   True     False  \n",
      "20   False   True     False  \n",
      "21   False  False     False  \n",
      "22   False   True     False  \n",
      "23   False  False     False  \n",
      "24   False   True     False  \n",
      "25   False   True     False  \n",
      "26   False   True     False  \n",
      "27   False  False     False  \n",
      "28   False   True     False  \n",
      "29   False   True     False  \n",
      "..     ...    ...       ...  \n",
      "861  False   True     False  \n",
      "862  False  False     False  \n",
      "863  False   True     False  \n",
      "864  False   True     False  \n",
      "865  False   True     False  \n",
      "866  False   True     False  \n",
      "867  False  False     False  \n",
      "868  False   True     False  \n",
      "869  False   True     False  \n",
      "870  False   True     False  \n",
      "871  False  False     False  \n",
      "872  False  False     False  \n",
      "873  False   True     False  \n",
      "874  False   True     False  \n",
      "875  False   True     False  \n",
      "876  False   True     False  \n",
      "877  False   True     False  \n",
      "878  False   True     False  \n",
      "879  False  False     False  \n",
      "880  False   True     False  \n",
      "881  False   True     False  \n",
      "882  False   True     False  \n",
      "883  False   True     False  \n",
      "884  False   True     False  \n",
      "885  False   True     False  \n",
      "886  False   True     False  \n",
      "887  False  False     False  \n",
      "888  False   True     False  \n",
      "889  False  False     False  \n",
      "890  False   True     False  \n",
      "\n",
      "[891 rows x 12 columns]\n"
     ]
    }
   ],
   "source": [
    "print(titanic.info())\n",
    "print(titanic.isnull())"
   ]
  },
  {
   "cell_type": "code",
   "execution_count": 86,
   "metadata": {},
   "outputs": [
    {
     "data": {
      "image/png": "[encoded data removed]",
      "text/plain": [
       "<Figure size 432x288 with 1 Axes>"
      ]
     },
     "metadata": {
      "needs_background": "light"
     },
     "output_type": "display_data"
    }
   ],
   "source": [
    "#see the missing values in heatmap\n",
    "sns.heatmap(titanic.isnull(),yticklabels=False,cbar=False,cmap='viridis')\n",
    "plt.show()\n"
   ]
  },
  {
   "cell_type": "code",
   "execution_count": 87,
   "metadata": {},
   "outputs": [],
   "source": [
    "# sns.distplot(titanic['Age'].dropna(),kde=False,bins=30,color='green')\n",
    "# plt.show()\n",
    "\n"
   ]
  },
  {
   "cell_type": "code",
   "execution_count": 88,
   "metadata": {},
   "outputs": [],
   "source": [
    "#titanic['Age'].plot.hist(bins=20)\n",
    "#plt.show()"
   ]
  },
  {
   "cell_type": "code",
   "execution_count": 89,
   "metadata": {},
   "outputs": [],
   "source": [
    "# sns.set_style('whitegrid')\n",
    "# sns.countplot(x='Survived',data=titanic,hue='Sex')\n",
    "# plt.show()"
   ]
  },
  {
   "cell_type": "code",
   "execution_count": 90,
   "metadata": {},
   "outputs": [],
   "source": [
    "# sns.countplot(x='SibSp',data=titanic)\n",
    "# plt.show()"
   ]
  },
  {
   "cell_type": "code",
   "execution_count": 91,
   "metadata": {},
   "outputs": [],
   "source": [
    "# titanic['Fare'].hist(bins=20,figsize=(10,4))\n",
    "# plt.show()\n"
   ]
  },
  {
   "cell_type": "code",
   "execution_count": 92,
   "metadata": {},
   "outputs": [
    {
     "data": {
      "image/png": "[encoded data removed]",
      "text/plain": [
       "<Figure size 432x288 with 1 Axes>"
      ]
     },
     "metadata": {
      "needs_background": "light"
     },
     "output_type": "display_data"
    }
   ],
   "source": [
    "sns.boxplot(x='Pclass',y='Age',data=titanic)\n",
    "plt.show()"
   ]
  },
  {
   "cell_type": "code",
   "execution_count": 93,
   "metadata": {},
   "outputs": [],
   "source": [
    "#handle missing values in Age column\n",
    "def impute_age(cols):\n",
    "    Age=cols[0]\n",
    "    Pclass=cols[1]\n",
    "\n",
    "    if pd.isnull(Age):\n",
    "        if Pclass ==1:\n",
    "            return 37\n",
    "        elif Pclass ==2:\n",
    "            return 29\n",
    "        else:\n",
    "            return 24\n",
    "\n",
    "    else:\n",
    "        return Age"
   ]
  },
  {
   "cell_type": "code",
   "execution_count": 94,
   "metadata": {},
   "outputs": [
    {
     "data": {
      "image/png": "[encoded data removed]",
      "text/plain": [
       "<Figure size 432x288 with 1 Axes>"
      ]
     },
     "metadata": {
      "needs_background": "light"
     },
     "output_type": "display_data"
    }
   ],
   "source": [
    "sns.heatmap(titanic.isnull(),yticklabels=False,cbar=False,cmap='viridis')\n",
    "plt.show()"
   ]
  },
  {
   "cell_type": "code",
   "execution_count": 95,
   "metadata": {},
   "outputs": [
    {
     "data": {
      "image/png": "[encoded data removed]",
      "text/plain": [
       "<Figure size 432x288 with 1 Axes>"
      ]
     },
     "metadata": {
      "needs_background": "light"
     },
     "output_type": "display_data"
    }
   ],
   "source": [
    "#handle missing values in Cabin column\n",
    "\n",
    "titanic.drop('Cabin',axis=1,inplace=True)\n",
    "sns.heatmap(titanic.isnull(),yticklabels=False,cbar=False,cmap='viridis')\n",
    "plt.show()"
   ]
  },
  {
   "cell_type": "code",
   "execution_count": 99,
   "metadata": {},
   "outputs": [
    {
     "name": "stdout",
     "output_type": "stream",
     "text": [
      "#@#@#@#@#@#    PassengerId  Survived  Pclass   Age  SibSp  Parch     Fare\n",
      "0            1         0       3  22.0      1      0   7.2500\n",
      "1            2         1       1  38.0      1      0  71.2833\n",
      "2            3         1       3  26.0      0      0   7.9250\n",
      "3            4         1       1  35.0      1      0  53.1000\n"
     ]
    }
   ],
   "source": [
    "#onely geting numeric values\n",
    "\n",
    "titanic.drop(['Sex','Embarked','Name','Ticket'],axis=1,inplace=True)\n",
    "print(\"#@#@#@#@#@#\",titanic.head(4))"
   ]
  },
  {
   "cell_type": "code",
   "execution_count": 100,
   "metadata": {},
   "outputs": [
    {
     "name": "stdout",
     "output_type": "stream",
     "text": [
      "   Survived  Pclass   Age  SibSp  Parch     Fare\n",
      "0         0       3  22.0      1      0   7.2500\n",
      "1         1       1  38.0      1      0  71.2833\n",
      "2         1       3  26.0      0      0   7.9250\n",
      "3         1       1  35.0      1      0  53.1000\n",
      "4         0       3  35.0      0      0   8.0500\n"
     ]
    }
   ],
   "source": [
    "titanic.drop(['PassengerId'],axis=1,inplace=True)\n",
    "print(titanic.head())"
   ]
  },
  {
   "cell_type": "code",
   "execution_count": 101,
   "metadata": {},
   "outputs": [
    {
     "name": "stdout",
     "output_type": "stream",
     "text": [
      "test and train case \n"
     ]
    }
   ],
   "source": [
    "print(\"test and train case \")\n",
    "\n",
    "X=titanic.drop('Survived',axis=1)\n",
    "Y=titanic['Survived']"
   ]
  },
  {
   "cell_type": "code",
   "execution_count": 102,
   "metadata": {},
   "outputs": [],
   "source": [
    "from sklearn.model_selection import train_test_split\n",
    "\n",
    "x_train,x_test,y_train,y_test=train_test_split(X,Y,test_size=0.3,random_state=102)"
   ]
  },
  {
   "cell_type": "code",
   "execution_count": 103,
   "metadata": {},
   "outputs": [
    {
     "name": "stderr",
     "output_type": "stream",
     "text": [
      "c:\\users\\sreek\\appdata\\local\\programs\\python\\python37\\lib\\site-packages\\sklearn\\linear_model\\logistic.py:432: FutureWarning: Default solver will be changed to 'lbfgs' in 0.22. Specify a solver to silence this warning.\n",
      "  FutureWarning)\n"
     ]
    },
    {
     "data": {
      "text/plain": [
       "LogisticRegression(C=1.0, class_weight=None, dual=False, fit_intercept=True,\n",
       "                   intercept_scaling=1, l1_ratio=None, max_iter=100,\n",
       "                   multi_class='warn', n_jobs=None, penalty='l2',\n",
       "                   random_state=None, solver='warn', tol=0.0001, verbose=0,\n",
       "                   warm_start=False)"
      ]
     },
     "execution_count": 103,
     "metadata": {},
     "output_type": "execute_result"
    }
   ],
   "source": [
    "from sklearn.linear_model import LogisticRegression\n",
    "\n",
    "lm=LogisticRegression()\n",
    "lm.fit(x_train,y_train)\n"
   ]
  },
  {
   "cell_type": "code",
   "execution_count": 104,
   "metadata": {},
   "outputs": [
    {
     "name": "stdout",
     "output_type": "stream",
     "text": [
      "prediction values\n",
      "[0 0 0 1 0 0 0 0 0 1 1 0 0 0 0 0 1 0 1 0 0 0 1 0 0 0 0 1 1 1 0 0 1 0 0 0 0\n",
      " 0 0 0 0 0 0 0 0 1 0 1 1 0 0 0 0 1 0 1 0 1 0 0 0 0 1 1 0 1 0 0 1 1 1 1 0 1\n",
      " 0 0 0 0 0 0 0 1 1 1 0 0 0 1 0 0 0 0 1 0 0 0 0 0 0 0 1 1 0 0 0 1 0 0 1 1 1\n",
      " 0 0 0 0 0 0 1 0 1 0 0 0 0 0 0 0 0 0 0 0 0 0 0 0 0 0 1 0 0 0 1 1 0 0 0 0 1\n",
      " 0 0 0 0 0 1 0 0 0 0 1 0 0 0 0 1 0 0 0 0 1 0 1 0 1 0 0 1 1 1 0 1 1 0 0 0 0\n",
      " 0 1 0 0 0 1 0 0 1 1 1 0 0 0 0 0 0 0 0 0 1 0 1 1 1 0 0 0 0]\n"
     ]
    }
   ],
   "source": [
    "print(\"prediction values\")\n",
    "prediction=lm.predict(x_test)\n",
    "print(prediction)"
   ]
  },
  {
   "cell_type": "code",
   "execution_count": 105,
   "metadata": {},
   "outputs": [
    {
     "name": "stdout",
     "output_type": "stream",
     "text": [
      "              precision    recall  f1-score   support\n",
      "\n",
      "           0       0.74      0.86      0.80       131\n",
      "           1       0.70      0.52      0.60        83\n",
      "\n",
      "    accuracy                           0.73       214\n",
      "   macro avg       0.72      0.69      0.70       214\n",
      "weighted avg       0.73      0.73      0.72       214\n",
      "\n"
     ]
    }
   ],
   "source": [
    "from sklearn.metrics import classification_report\n",
    "a=classification_report(y_test, prediction)\n",
    "print(a)"
   ]
  },
  {
   "cell_type": "code",
   "execution_count": 106,
   "metadata": {},
   "outputs": [
    {
     "name": "stdout",
     "output_type": "stream",
     "text": [
      "confusion matrix\n",
      "[[113  18]\n",
      " [ 40  43]]\n"
     ]
    }
   ],
   "source": [
    "print(\"confusion matrix\")\n",
    "from  sklearn.metrics import confusion_matrix, accuracy_score\n",
    "print(confusion_matrix(y_test,prediction))"
   ]
  },
  {
   "cell_type": "code",
   "execution_count": null,
   "metadata": {},
   "outputs": [],
   "source": []
  }
 ],
 "metadata": {
  "kernelspec": {
   "display_name": "Python 3",
   "language": "python",
   "name": "python3"
  },
  "language_info": {
   "codemirror_mode": {
    "name": "ipython",
    "version": 3
   },
   "file_extension": ".py",
   "mimetype": "text/x-python",
   "name": "python",
   "nbconvert_exporter": "python",
   "pygments_lexer": "ipython3",
   "version": "3.7.3"
  }
 },
 "nbformat": 4,
 "nbformat_minor": 4
}
